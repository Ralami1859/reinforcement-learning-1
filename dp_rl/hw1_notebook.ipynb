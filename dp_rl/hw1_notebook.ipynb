{
 "cells": [
  {
   "cell_type": "markdown",
   "metadata": {
    "toc": "true"
   },
   "source": [
    " # Table of Contents\n",
    "<div class=\"toc\" style=\"margin-top: 1em;\"><ul class=\"toc-item\" id=\"toc-level0\"><li><span><a href=\"http://localhost:8888/notebooks/reinforcement-learning/dp_rl/hw1_notebook.ipynb#Dynamic-programming\" data-toc-modified-id=\"Dynamic-programming-1\"><span class=\"toc-item-num\">1&nbsp;&nbsp;</span>Dynamic programming</a></span><ul class=\"toc-item\"><li><span><a href=\"http://localhost:8888/notebooks/reinforcement-learning/dp_rl/hw1_notebook.ipynb#Discrete-MDP-model\" data-toc-modified-id=\"Discrete-MDP-model-1.1\"><span class=\"toc-item-num\">1.1&nbsp;&nbsp;</span>Discrete MDP model</a></span></li><li><span><a href=\"http://localhost:8888/notebooks/reinforcement-learning/dp_rl/hw1_notebook.ipynb#Value-iteration\" data-toc-modified-id=\"Value-iteration-1.2\"><span class=\"toc-item-num\">1.2&nbsp;&nbsp;</span>Value iteration</a></span></li><li><span><a href=\"http://localhost:8888/notebooks/reinforcement-learning/dp_rl/hw1_notebook.ipynb#Policy-iteration\" data-toc-modified-id=\"Policy-iteration-1.3\"><span class=\"toc-item-num\">1.3&nbsp;&nbsp;</span>Policy iteration</a></span></li></ul></li><li><span><a href=\"http://localhost:8888/notebooks/reinforcement-learning/dp_rl/hw1_notebook.ipynb#Reinforcement-learning\" data-toc-modified-id=\"Reinforcement-learning-2\"><span class=\"toc-item-num\">2&nbsp;&nbsp;</span>Reinforcement learning</a></span><ul class=\"toc-item\"><li><span><a href=\"http://localhost:8888/notebooks/reinforcement-learning/dp_rl/hw1_notebook.ipynb#GridWorld-environment\" data-toc-modified-id=\"GridWorld-environment-2.1\"><span class=\"toc-item-num\">2.1&nbsp;&nbsp;</span>GridWorld environment</a></span></li><li><span><a href=\"http://localhost:8888/notebooks/reinforcement-learning/dp_rl/hw1_notebook.ipynb#Policy-evaluation\" data-toc-modified-id=\"Policy-evaluation-2.2\"><span class=\"toc-item-num\">2.2&nbsp;&nbsp;</span>Policy evaluation</a></span></li><li><span><a href=\"http://localhost:8888/notebooks/reinforcement-learning/dp_rl/hw1_notebook.ipynb#Policy-optimization\" data-toc-modified-id=\"Policy-optimization-2.3\"><span class=\"toc-item-num\">2.3&nbsp;&nbsp;</span>Policy optimization</a></span></li></ul></li></ul></div>"
   ]
  },
  {
   "cell_type": "code",
   "execution_count": 1,
   "metadata": {},
   "outputs": [],
   "source": [
    "# Uncomment to install the following packages\n",
    "#!pip install tqdm\n",
    "#!pip install seaborn"
   ]
  },
  {
   "cell_type": "code",
   "execution_count": 2,
   "metadata": {},
   "outputs": [],
   "source": [
    "import matplotlib.pyplot as plt\n",
    "import numpy as np\n",
    "import seaborn\n",
    "import time\n",
    "import sys\n",
    "import os\n",
    "\n",
    "%matplotlib inline\n",
    "\n",
    "from numpy.linalg import norm"
   ]
  },
  {
   "cell_type": "code",
   "execution_count": 3,
   "metadata": {},
   "outputs": [],
   "source": [
    "%load_ext autoreload\n",
    "\n",
    "%autoreload 2"
   ]
  },
  {
   "cell_type": "code",
   "execution_count": 3,
   "metadata": {},
   "outputs": [],
   "source": [
    "# Path to the scripts gridrender, gridworld, mdp and rl\n",
    "sys.path.append(r\"C:\\Users\\Nasser Benab\\Documents\\git\\reinforcement-learning\\dp_rl\")"
   ]
  },
  {
   "cell_type": "markdown",
   "metadata": {},
   "source": [
    "# Dynamic programming "
   ]
  },
  {
   "cell_type": "code",
   "execution_count": 4,
   "metadata": {},
   "outputs": [],
   "source": [
    "from mdp import *"
   ]
  },
  {
   "cell_type": "markdown",
   "metadata": {},
   "source": [
    "##  Discrete MDP model"
   ]
  },
  {
   "cell_type": "code",
   "execution_count": 5,
   "metadata": {},
   "outputs": [],
   "source": [
    "# Available states\n",
    "X = [\"s0\", \"s1\", \"s2\"]"
   ]
  },
  {
   "cell_type": "code",
   "execution_count": 6,
   "metadata": {},
   "outputs": [],
   "source": [
    "# Availabe actions\n",
    "A = [\"a0\", \"a1\"]"
   ]
  },
  {
   "cell_type": "code",
   "execution_count": 7,
   "metadata": {},
   "outputs": [
    {
     "data": {
      "text/plain": [
       "array([[-0.4,  0. ],\n",
       "       [ 2. ,  0. ],\n",
       "       [-1. , -0.5]])"
      ]
     },
     "execution_count": 7,
     "metadata": {},
     "output_type": "execute_result"
    }
   ],
   "source": [
    "# Reward matrix\n",
    "R = np.array([[-0.4, 0], [2, 0], [-1, -0.5]])\n",
    "R"
   ]
  },
  {
   "cell_type": "code",
   "execution_count": 8,
   "metadata": {},
   "outputs": [
    {
     "data": {
      "text/plain": [
       "array([[[ 0.45,  0.  ,  0.55],\n",
       "        [ 0.  ,  0.  ,  1.  ],\n",
       "        [ 0.6 ,  0.  ,  0.4 ]],\n",
       "\n",
       "       [[ 0.  ,  0.  ,  1.  ],\n",
       "        [ 0.5 ,  0.4 ,  0.1 ],\n",
       "        [ 0.  ,  0.9 ,  0.1 ]]])"
      ]
     },
     "execution_count": 8,
     "metadata": {},
     "output_type": "execute_result"
    }
   ],
   "source": [
    "# Dynamics\n",
    "P = np.array([[[0.45, 0, 0.55], [0, 0, 1], [0.6, 0, 0.4]], [[0, 0, 1], [0.5, 0.4, 0.1], [0, 0.9, 0.1]]])\n",
    "P\n"
   ]
  },
  {
   "cell_type": "code",
   "execution_count": 9,
   "metadata": {},
   "outputs": [],
   "source": [
    "# Initialize the MDP model\n",
    "mdp = MDP(X, A, P, R)"
   ]
  },
  {
   "cell_type": "markdown",
   "metadata": {},
   "source": [
    "## Value iteration "
   ]
  },
  {
   "cell_type": "code",
   "execution_count": 10,
   "metadata": {},
   "outputs": [
    {
     "name": "stdout",
     "output_type": "stream",
     "text": [
      "Iteration n°10\n",
      "Iteration n°20\n",
      "Iteration n°30\n",
      "Iteration n°40\n",
      "Iteration n°50\n",
      "Iteration n°60\n",
      "Iteration n°70\n",
      "Iteration n°80\n",
      "Number of iterations with epsilon = 0.01: 84\n"
     ]
    },
    {
     "data": {
      "text/plain": [
       "['a1', 'a0', 'a1']"
      ]
     },
     "execution_count": 10,
     "metadata": {},
     "output_type": "execute_result"
    }
   ],
   "source": [
    "# Compute the 0.01 - greedy policy using value iteration\n",
    "V0 = np.zeros(mdp.n_states)\n",
    "greedy_policy, Vhistory = mdp.value_iterate(0.01, V0)\n",
    "greedy_policy"
   ]
  },
  {
   "cell_type": "code",
   "execution_count": 11,
   "metadata": {},
   "outputs": [
    {
     "data": {
      "image/png": "[encoded data removed]",
      "text/plain": [
       "<matplotlib.figure.Figure at 0x20cfc77ab00>"
      ]
     },
     "metadata": {},
     "output_type": "display_data"
    }
   ],
   "source": [
    "# Plot the gap between the value function at each iteration and the optimal \n",
    "# value function (norm infinity)\n",
    "gaps = [norm(V-Vhistory[-1], np.inf) for V in Vhistory]\n",
    "plt.plot(gaps)\n",
    "plt.ylabel(\"$||v^k - v*)||_\\infty$\")\n",
    "plt.xlabel(\"Number of iterations\")\n",
    "plt.title(\"Value iteration\")\n",
    "plt.show()"
   ]
  },
  {
   "cell_type": "markdown",
   "metadata": {},
   "source": [
    "## Policy iteration "
   ]
  },
  {
   "cell_type": "code",
   "execution_count": 12,
   "metadata": {},
   "outputs": [
    {
     "name": "stdout",
     "output_type": "stream",
     "text": [
      "Number of iterations = 3\n"
     ]
    },
    {
     "data": {
      "text/plain": [
       "['a1', 'a0', 'a1']"
      ]
     },
     "execution_count": 12,
     "metadata": {},
     "output_type": "execute_result"
    }
   ],
   "source": [
    "# Compute the greedy policy using policy iteration\n",
    "policy0 = [0, 0, 0]\n",
    "mdp.policy_iterate(policy0)"
   ]
  },
  {
   "cell_type": "markdown",
   "metadata": {},
   "source": [
    "> The policy iteration algorithm converges much faster than the value iteration one (3 against 84 iterations respectively). However, for the policy iteration, each iteration requires a full policy evaluation that can be expensive. \n",
    "\n",
    "> For the value iteration, eventhough there are a lot of iterations, each one is very efficient. However the convergence is only asymptotic for this algorithm."
   ]
  },
  {
   "cell_type": "markdown",
   "metadata": {
    "collapsed": true
   },
   "source": [
    "# Reinforcement learning"
   ]
  },
  {
   "cell_type": "code",
   "execution_count": 13,
   "metadata": {},
   "outputs": [],
   "source": [
    "from gridworld import *"
   ]
  },
  {
   "cell_type": "markdown",
   "metadata": {},
   "source": [
    "## GridWorld environment"
   ]
  },
  {
   "cell_type": "code",
   "execution_count": 14,
   "metadata": {},
   "outputs": [],
   "source": [
    "# Grid\n",
    "grid1 = [\n",
    "    ['', '', '', 1],\n",
    "    ['', 'x', '', -1],\n",
    "    ['', '', '', '']\n",
    "]\n",
    "GridWorld1 = GridWorld(gamma=0.95, grid=grid1)\n"
   ]
  },
  {
   "cell_type": "code",
   "execution_count": 15,
   "metadata": {},
   "outputs": [
    {
     "data": {
      "text/plain": [
       "11"
      ]
     },
     "execution_count": 15,
     "metadata": {},
     "output_type": "execute_result"
    }
   ],
   "source": [
    "# Number of states\n",
    "GridWorld1.n_states"
   ]
  },
  {
   "cell_type": "code",
   "execution_count": 16,
   "metadata": {},
   "outputs": [
    {
     "data": {
      "text/plain": [
       "array([[ 0,  1,  2,  3],\n",
       "       [ 4, -1,  5,  6],\n",
       "       [ 7,  8,  9, 10]])"
      ]
     },
     "execution_count": 16,
     "metadata": {},
     "output_type": "execute_result"
    }
   ],
   "source": [
    "# The different states\n",
    "GridWorld1.coord2state"
   ]
  },
  {
   "cell_type": "code",
   "execution_count": 17,
   "metadata": {},
   "outputs": [
    {
     "data": {
      "text/plain": [
       "[[0, 0],\n",
       " [0, 1],\n",
       " [0, 2],\n",
       " [0, 3],\n",
       " [1, 0],\n",
       " [1, 2],\n",
       " [1, 3],\n",
       " [2, 0],\n",
       " [2, 1],\n",
       " [2, 2],\n",
       " [2, 3]]"
      ]
     },
     "execution_count": 17,
     "metadata": {},
     "output_type": "execute_result"
    }
   ],
   "source": [
    "# Coordinates of each state (use them in self.grid to access a state)\n",
    "GridWorld1.state2coord"
   ]
  },
  {
   "cell_type": "code",
   "execution_count": 18,
   "metadata": {},
   "outputs": [
    {
     "data": {
      "text/plain": [
       "array(['right', 'down', 'left', 'up'],\n",
       "      dtype='<U5')"
      ]
     },
     "execution_count": 18,
     "metadata": {},
     "output_type": "execute_result"
    }
   ],
   "source": [
    "# To convert action number into named action\n",
    "GridWorld1.action_names"
   ]
  },
  {
   "cell_type": "code",
   "execution_count": 19,
   "metadata": {},
   "outputs": [
    {
     "data": {
      "text/plain": [
       "[[0, 1],\n",
       " [0, 2],\n",
       " [0, 1, 2],\n",
       " [0],\n",
       " [1, 3],\n",
       " [0, 1, 3],\n",
       " [0],\n",
       " [0, 3],\n",
       " [0, 2],\n",
       " [0, 2, 3],\n",
       " [2, 3]]"
      ]
     },
     "execution_count": 19,
     "metadata": {},
     "output_type": "execute_result"
    }
   ],
   "source": [
    "# Available actions for each state (0=right, 1=down, 2=left, 3=up)\n",
    "available_actions = GridWorld1.state_actions\n",
    "available_actions"
   ]
  },
  {
   "cell_type": "code",
   "execution_count": 20,
   "metadata": {},
   "outputs": [
    {
     "data": {
      "text/plain": [
       "[['', '', '', 1], ['', 'x', '', -1], ['', '', '', '']]"
      ]
     },
     "execution_count": 20,
     "metadata": {},
     "output_type": "execute_result"
    }
   ],
   "source": [
    "# The grid as an array\n",
    "GridWorld1.grid"
   ]
  },
  {
   "cell_type": "code",
   "execution_count": 21,
   "metadata": {},
   "outputs": [
    {
     "name": "stdout",
     "output_type": "stream",
     "text": [
      "Initial state: 0\n",
      "Action: 0 => State: 1\n",
      "Action: 0 => State: 2\n",
      "Action: 0 => State: 3\n",
      "Action: 0 => State: 3\n",
      "Action: 0 => State: 3\n"
     ]
    }
   ],
   "source": [
    "# Simulate a trajectory\n",
    "GridWorld1.render = False\n",
    "state = 0\n",
    "print(\"Initial state:\", state)\n",
    "fps = 1\n",
    "for i in range(5):\n",
    "        action = np.random.choice(GridWorld1.state_actions[state])\n",
    "        nexts, reward, term = GridWorld1.step(state,action)\n",
    "        state = nexts\n",
    "        print(\"Action:\", action, \"=>\", \"State:\", state)\n",
    "        time.sleep(1./fps)"
   ]
  },
  {
   "cell_type": "code",
   "execution_count": 22,
   "metadata": {},
   "outputs": [],
   "source": [
    "# Vizualize the Q function \n",
    "max_act = max(map(len, GridWorld1.state_actions))\n",
    "q = np.random.rand(GridWorld1.n_states, max_act)\n",
    "gui.render_q(GridWorld1, q)"
   ]
  },
  {
   "cell_type": "markdown",
   "metadata": {},
   "source": [
    "## Policy evaluation"
   ]
  },
  {
   "cell_type": "code",
   "execution_count": 23,
   "metadata": {},
   "outputs": [],
   "source": [
    "from rl import *"
   ]
  },
  {
   "cell_type": "code",
   "execution_count": 24,
   "metadata": {},
   "outputs": [],
   "source": [
    "# Deterministic policy (right when available, otherwise up)\n",
    "# The ith decision corresponds to the action to use for the state i\n",
    "policy = [0, 0, 0, 0, 3, 0, 0, 0, 0, 0, 3]\n",
    "# Visualize the policy\n",
    "gui.render_policy(GridWorld1, policy)"
   ]
  },
  {
   "cell_type": "code",
   "execution_count": 25,
   "metadata": {},
   "outputs": [
    {
     "data": {
      "text/plain": [
       "40"
      ]
     },
     "execution_count": 25,
     "metadata": {},
     "output_type": "execute_result"
    }
   ],
   "source": [
    "# \"Stopping time\" Tmax\n",
    "delta = 0.01\n",
    "Tmax = int(round(-1/0.05*np.log10(delta)))\n",
    "Tmax"
   ]
  },
  {
   "cell_type": "code",
   "execution_count": 26,
   "metadata": {},
   "outputs": [
    {
     "data": {
      "text/plain": [
       "array([[ 0.88778065,  0.88282049,         nan,         nan],\n",
       "       [ 0.94157955,         nan,  0.93970833,         nan],\n",
       "       [ 0.98973684,  0.98454219,  0.985     ,         nan],\n",
       "       [ 0.        ,         nan,         nan,         nan],\n",
       "       [        nan,  0.70733884,         nan,  0.5136702 ],\n",
       "       [-1.        , -0.99297619,         nan, -1.        ],\n",
       "       [ 0.        ,         nan,         nan,         nan],\n",
       "       [-0.80200137,         nan,         nan, -0.83885141],\n",
       "       [-0.88129125,         nan, -0.88584135,         nan],\n",
       "       [-0.942875  ,         nan, -0.95      , -0.9303895 ],\n",
       "       [        nan,         nan, -0.99772727, -0.99016667]])"
      ]
     },
     "execution_count": 26,
     "metadata": {},
     "output_type": "execute_result"
    }
   ],
   "source": [
    "# Compute the Q function \n",
    "Q = compute_Q(env, policy, 500, Tmax)\n",
    "Q"
   ]
  },
  {
   "cell_type": "code",
   "execution_count": 27,
   "metadata": {},
   "outputs": [
    {
     "data": {
      "text/plain": [
       "array([ 0.88778065,  0.94157955,  0.98973684,  0.        ,  0.70733884,\n",
       "       -0.99297619,  0.        , -0.80200137, -0.88129125, -0.9303895 ,\n",
       "       -0.99016667])"
      ]
     },
     "execution_count": 27,
     "metadata": {},
     "output_type": "execute_result"
    }
   ],
   "source": [
    "# Compute the corresponding value function\n",
    "V = np.nanmax(Q, axis=1)\n",
    "V"
   ]
  },
  {
   "cell_type": "code",
   "execution_count": 28,
   "metadata": {},
   "outputs": [],
   "source": [
    "# Vizualize the Q function\n",
    "gui.render_q(env, Q_to_q(env, Q))"
   ]
  },
  {
   "cell_type": "code",
   "execution_count": 30,
   "metadata": {},
   "outputs": [
    {
     "name": "stderr",
     "output_type": "stream",
     "text": [
      "  0%|          | 0/100 [00:00<?, ?it/s]C:\\Users\\Nasser Benab\\Documents\\git\\reinforcement-learning\\dp_rl\\rl.py:273: RuntimeWarning: All-NaN slice encountered\n",
      "  V = np.nanmax(Q, axis = 1)\n",
      "100%|██████████| 100/100 [00:02<00:00, 46.78it/s]\n"
     ]
    },
    {
     "data": {
      "image/png": "[encoded data removed]",
      "text/plain": [
       "<matplotlib.figure.Figure at 0x20cfc8cdf28>"
      ]
     },
     "metadata": {},
     "output_type": "display_data"
    }
   ],
   "source": [
    "# Plot J_{n} - J^(Pi)\n",
    "n_episodes, gaps = compute_gaps(env, policy, 1000, Tmax, np.array(v_q4))\n",
    "plt.plot(n_episodes, gaps)\n",
    "plt.show()"
   ]
  },
  {
   "cell_type": "markdown",
   "metadata": {},
   "source": [
    "## Policy optimization "
   ]
  },
  {
   "cell_type": "markdown",
   "metadata": {},
   "source": [
    "The learning rate is chosen as a constant $\\alpha = 0.1$.\n",
    "\n",
    "Let's choose the best epsilon maximizing the cumulated rewards over the trajectories and minimizing the gap $||v^K - v^*||_\\infty$ where $v^K$ is the last value function obtained."
   ]
  },
  {
   "cell_type": "code",
   "execution_count": 31,
   "metadata": {},
   "outputs": [
    {
     "name": "stderr",
     "output_type": "stream",
     "text": [
      "100%|██████████| 10000/10000 [00:12<00:00, 779.66it/s]\n",
      "100%|██████████| 10000/10000 [00:02<00:00, 3510.50it/s]\n",
      "100%|██████████| 10000/10000 [00:03<00:00, 2534.53it/s]\n",
      "100%|██████████| 10000/10000 [00:03<00:00, 2611.91it/s]\n",
      "100%|██████████| 10000/10000 [00:03<00:00, 2884.62it/s]\n",
      "100%|██████████| 10000/10000 [00:03<00:00, 2839.92it/s]\n",
      "100%|██████████| 10000/10000 [00:03<00:00, 2569.79it/s]\n",
      "100%|██████████| 10000/10000 [00:04<00:00, 2337.33it/s]\n",
      "100%|██████████| 10000/10000 [00:04<00:00, 2199.93it/s]\n",
      "100%|██████████| 10000/10000 [00:04<00:00, 2038.44it/s]\n",
      "100%|██████████| 10000/10000 [00:05<00:00, 1862.64it/s]\n"
     ]
    }
   ],
   "source": [
    "# Run the Q learning algorithm for different value of epsilon\n",
    "epsilons = [i*1e-1 for i in range(11)]\n",
    "n_trajectories = 10000\n",
    "alpha = 0.1\n",
    "\n",
    "# Store the last cumulated rewards for each epsilon\n",
    "last_cumulated_rewards = []\n",
    "# Store the last greedy value function for each epsilon\n",
    "last_value_functions = []\n",
    "\n",
    "for epsilon in epsilons:\n",
    "    Q, value_functions, greedy_policies, cumulated_rewards = \\\n",
    "    compute_Qlearning(env, n_trajectories, Tmax, epsilon, alpha)\n",
    "    last_cumulated_rewards.append(cumulated_rewards[-1])\n",
    "    last_value_functions.append(value_functions[-1])"
   ]
  },
  {
   "cell_type": "code",
   "execution_count": 32,
   "metadata": {},
   "outputs": [
    {
     "data": {
      "image/png": "[encoded data removed]",
      "text/plain": [
       "<matplotlib.figure.Figure at 0x20cfcebbc18>"
      ]
     },
     "metadata": {},
     "output_type": "display_data"
    }
   ],
   "source": [
    "plt.plot(epsilons, last_cumulated_rewards)\n",
    "plt.xlabel(\"$\\epsilon$\")\n",
    "plt.ylabel(\"Cumulated rewards\")\n",
    "plt.title(\"Impact of $\\epsilon$ on the cumulated rewards\")\n",
    "plt.show()"
   ]
  },
  {
   "cell_type": "code",
   "execution_count": 33,
   "metadata": {},
   "outputs": [
    {
     "data": {
      "image/png": "[encoded data removed]",
      "text/plain": [
       "<matplotlib.figure.Figure at 0x20cfd0b0b70>"
      ]
     },
     "metadata": {},
     "output_type": "display_data"
    }
   ],
   "source": [
    "gaps = [norm(v-v_opt, np.inf) for v in last_value_functions]\n",
    "plt.plot(epsilons, gaps)\n",
    "plt.xlabel(\"$\\epsilon$\")\n",
    "plt.ylabel(\"$||v^K - v*)||_\\infty$\")\n",
    "plt.title(\"Impact of $\\epsilon$ on the value function gaps\")\n",
    "plt.show()"
   ]
  },
  {
   "cell_type": "markdown",
   "metadata": {},
   "source": [
    "> The two graphs show than an optimal value for $\\epsilon$ should be **0.1**."
   ]
  },
  {
   "cell_type": "code",
   "execution_count": 34,
   "metadata": {},
   "outputs": [
    {
     "name": "stderr",
     "output_type": "stream",
     "text": [
      "100%|██████████| 10000/10000 [00:05<00:00, 1818.84it/s]\n"
     ]
    }
   ],
   "source": [
    "# Q learning with alpha = 0.1, epsilon = 0.1\n",
    "n_trajectories = 10000\n",
    "epsilons = 0.1\n",
    "alpha = 0.1\n",
    "Q, value_functions, greedy_policies, cumulated_rewards = \\\n",
    "compute_Qlearning(env, n_trajectories, Tmax, epsilon, alpha)"
   ]
  },
  {
   "cell_type": "code",
   "execution_count": 35,
   "metadata": {},
   "outputs": [],
   "source": [
    "# Vizualize the optimal policy\n",
    "gui.render_policy(env, greedy_policies[-1])"
   ]
  },
  {
   "cell_type": "code",
   "execution_count": 36,
   "metadata": {},
   "outputs": [],
   "source": [
    "# Vizualize the optimal Q policy\n",
    "gui.render_q(env, Q_to_q(env, Q))"
   ]
  },
  {
   "cell_type": "code",
   "execution_count": 37,
   "metadata": {},
   "outputs": [
    {
     "data": {
      "image/png": "[encoded data removed]",
      "text/plain": [
       "<matplotlib.figure.Figure at 0x20cfc99f898>"
      ]
     },
     "metadata": {},
     "output_type": "display_data"
    }
   ],
   "source": [
    "# Plot the convergence of the Q learning algorithm\n",
    "gaps = [norm(v-v_opt, np.inf) for v in value_functions]\n",
    "plt.plot(gaps)\n",
    "plt.ylabel(\"$||v^k - v*)||_\\infty$\")\n",
    "plt.xlabel(\"Number of iterations\")\n",
    "plt.title(\"Convergence of the Q learning algorithm\")\n",
    "plt.show()"
   ]
  },
  {
   "cell_type": "markdown",
   "metadata": {},
   "source": [
    "The Q learning algorithm seems to converge after a thousand iterations (but there is some noise)."
   ]
  },
  {
   "cell_type": "markdown",
   "metadata": {},
   "source": [
    "> The optimal policy of an MDP is not affected by the change of the initial distribution $\\mu_{0}$ that draws the initial state at each iteration. In fact, if we explore more states that tend to give bad rewards, the policy leading to to those states won't be selected, and if we explore more states that then to give good rewards, the policy leading to those states will be priviliged (optimal policy)."
   ]
  }
 ],
 "metadata": {
  "kernelspec": {
   "display_name": "Python 3",
   "language": "python",
   "name": "python3"
  },
  "language_info": {
   "codemirror_mode": {
    "name": "ipython",
    "version": 3
   },
   "file_extension": ".py",
   "mimetype": "text/x-python",
   "name": "python",
   "nbconvert_exporter": "python",
   "pygments_lexer": "ipython3",
   "version": "3.5.2"
  },
  "toc": {
   "nav_menu": {},
   "number_sections": true,
   "sideBar": true,
   "skip_h1_title": false,
   "toc_cell": true,
   "toc_position": {
    "height": "480px",
    "left": "0px",
    "right": "1256px",
    "top": "110px",
    "width": "266px"
   },
   "toc_section_display": "block",
   "toc_window_display": true
  }
 },
 "nbformat": 4,
 "nbformat_minor": 2
}
